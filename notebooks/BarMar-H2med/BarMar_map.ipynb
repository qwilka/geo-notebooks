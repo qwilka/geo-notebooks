{
 "cells": [
  {
   "cell_type": "markdown",
   "id": "576167b4",
   "metadata": {},
   "source": [
    "##  Barcelona - Marseilles H2 gas pipeline\n",
    "\n",
    "\n",
    "1. https://www.offshore-mag.com/pipelines/article/14286864/underwater-hydrogen-pipeline-between-spain-and-france-to-cost-26b \n",
    "1. https://www.reuters.com/business/energy/h2med-hydrogen-pipeline-france-cost-25-bln-euros-spanish-pm-sanchez-says-2022-12-09/"
   ]
  },
  {
   "cell_type": "code",
   "execution_count": 1,
   "id": "c15bf9b2",
   "metadata": {},
   "outputs": [],
   "source": [
    "import json\n",
    "import re\n",
    "import requests\n",
    "from haversine import haversine\n",
    "from ipyleaflet import (Map, basemaps, basemap_to_tiles, WMSLayer, Marker, GeoJSON, AwesomeIcon, ImageOverlay, \n",
    "                        ScaleControl, LayersControl, ZoomControl, FullScreenControl, DrawControl, LayerGroup)"
   ]
  },
  {
   "cell_type": "code",
   "execution_count": 2,
   "id": "503d1372",
   "metadata": {},
   "outputs": [],
   "source": [
    "# https://ipyleaflet.readthedocs.io/en/latest/map_and_basemaps/basemaps.html\n",
    "# basemaps.Esri.WorldImagery\n",
    "# basemap=basemap_to_tiles(basemaps.Esri.WorldImagery),\n",
    "# url='https://www.gebco.net/data_and_products/gebco_web_services/web_map_service/mapserv',\n",
    "# https://tiles.emodnet-bathymetry.eu/wmts/1.0.0/WMTSCapabilities.xml\n",
    "# https://tiles.emodnet-bathymetry.eu/2020/baselayer/{TileMatrixSet}/{TileMatrix}/{TileCol}/{TileRow}.png\n",
    "# https://tiles.emodnet-bathymetry.eu/2020/baselayer/web_mercator/{TileMatrix}/{TileCol}/{TileRow}.png\n",
    "worldImagery = basemap_to_tiles(basemaps.Esri.WorldImagery)\n",
    "gebco =WMSLayer(\n",
    "    url='https://www.gebco.net/data_and_products/gebco_web_services/web_map_service/mapserv',\n",
    "    layers='GEBCO_LATEST',\n",
    "    format='image/png',\n",
    "    transparent=True,\n",
    "    attribution='GEBCO'\n",
    ")\n",
    "emodnet =WMSLayer(\n",
    "    url='https://tiles.emodnet-bathymetry.eu/2020/baselayer/web_mercator/1/{TileCol}/{TileRow}.png',\n",
    "    tms=True\n",
    ")\n",
    "m = Map(\n",
    "    basemap=worldImagery,\n",
    "    center=(41.6, 4.0),\n",
    "    zoom=7,\n",
    "    zoom_control=False,\n",
    "    attribution_control=False\n",
    "    )\n",
    "m.add_control(ZoomControl(position='topright'))\n",
    "m.add_control(LayersControl(position='topleft'))\n",
    "m.add_control(ScaleControl(position='bottomright', metric=True, imperial=False))\n",
    "m.add_control(FullScreenControl())"
   ]
  },
  {
   "cell_type": "code",
   "execution_count": 3,
   "id": "07c86217",
   "metadata": {},
   "outputs": [],
   "source": [
    "def calc_line_KPs(coords, rnd=True, cum=True):\n",
    "    KP = [0]\n",
    "    for ii, coord1 in enumerate(coords[:-1]):\n",
    "        long1, lat1 = coord1\n",
    "        long2, lat2 = coords[ii+1]\n",
    "        #print(coord1, coord2)\n",
    "        dist = haversine((lat1, long1), (lat2, long2))\n",
    "        #distances.append(dist)\n",
    "        #print(type(dist), dist, len(distances))\n",
    "        if cum:\n",
    "            KP.append(dist + KP[-1])\n",
    "        #if len(distances)>0 and cum:\n",
    "        #    dist = dist + distances[-1]\n",
    "        #    KP.append(dist)\n",
    "        #    #print(dist, distances[-1])\n",
    "        else:\n",
    "            KP.append(dist)\n",
    "        #print(distances)\n",
    "    if rnd:\n",
    "        KP = [round(ii, 3) for ii in KP]\n",
    "    return KP"
   ]
  },
  {
   "cell_type": "code",
   "execution_count": 4,
   "id": "e31e80e7",
   "metadata": {},
   "outputs": [],
   "source": [
    "payload = {\n",
    "    \"request\": \"getfeatureinfo\",\n",
    "    \"service\": \"wms\",\n",
    "    \"crs\": \"EPSG:4326\",\n",
    "    \"layers\": \"gebco_latest_2\",\n",
    "    \"query_layers\": \"gebco_latest_2\",\n",
    "    \"BBOX\": \"33,138,38,143\",\n",
    "    \"info_format\": \"text/plain\",\n",
    "    \"x\": \"400\",\n",
    "    \"y\": \"400\",\n",
    "    \"width\": \"951\",\n",
    "    \"height\": \"400\",\n",
    "    \"version\": \"1.3.0\"\n",
    "}\n",
    "\n",
    "p = re.compile(r\"value_list\\s*=\\s*\\'(-?\\d*\\.?\\d*)\")\n",
    "\n",
    "def get_elevations(m, payload, coords):\n",
    "    payload[\"width\"] = int(m.right-m.left)\n",
    "    payload[\"height\"] = int(m.bottom-m.top)\n",
    "    payload[\"BBOX\"] = f\"{m.south:.5f},{m.west:.5f},{m.north:.5f},{m.east:.5f}\"\n",
    "    elevations = []\n",
    "    for long, lat in coords:\n",
    "        payload[\"x\"] = int((long-m.west)/(m.east-m.west)*payload[\"width\"])\n",
    "        payload[\"y\"] = int((lat-m.north)/(m.south-m.north)*payload[\"height\"])\n",
    "        #print(payload[\"width\"], payload[\"height\"])\n",
    "        #print(payload[\"x\"], payload[\"y\"])\n",
    "        #print(payload[\"BBOX\"])\n",
    "        gebcoStr = \"\"\n",
    "        url = 'https://www.gebco.net/data_and_products/gebco_web_services/web_map_service/mapserv'\n",
    "        req = requests.get(url, params=payload)\n",
    "        # https://requests.kennethreitz.org/en/latest/user/advanced/#prepared-requests\n",
    "        #req = requests.Request('GET', url, data=payload)\n",
    "        #prepped = req.prepare()\n",
    "        #print(prepped.body)\n",
    "        gebcoStr = req.text\n",
    "        success = False\n",
    "        if gebcoStr:\n",
    "            mm = p.search(gebcoStr)\n",
    "            if mm:\n",
    "                elevations.append(int(mm.groups(0)[0]))\n",
    "                success = True\n",
    "        if not success:\n",
    "            elevations.append(None)\n",
    "    return elevations"
   ]
  },
  {
   "cell_type": "code",
   "execution_count": 5,
   "id": "7762153c",
   "metadata": {},
   "outputs": [],
   "source": [
    "get_elev = True"
   ]
  },
  {
   "cell_type": "code",
   "execution_count": 6,
   "id": "28583015",
   "metadata": {},
   "outputs": [],
   "source": [
    "draw_control = DrawControl()\n",
    "draw_control.polyline =  {\n",
    "    \"shapeOptions\": {\n",
    "        \"color\": \"#00FFFF\",\n",
    "        \"weight\": 6,\n",
    "        \"opacity\": 1.0,\n",
    "        \"fillOpacity\": 0\n",
    "    }\n",
    "}\n",
    "\n",
    "def handle_draw(self, action, geo_json):\n",
    "    \"\"\"Do something with the GeoJSON when it's drawn on the map\"\"\"    \n",
    "    #feature_collection['features'].append(geo_json)\n",
    "    print(action)\n",
    "    fname = \"./data/geojson_from_map.json\"\n",
    "    if str(action)==\"deleted\": return None\n",
    "    with open(fname, 'w') as fh:\n",
    "        coords = geo_json[\"geometry\"][\"coordinates\"]\n",
    "        KP = calc_line_KPs(coords)\n",
    "        geo_json[\"properties\"][\"style\"][\"fillOpacity\"] = 0\n",
    "        geo_json[\"properties\"][\"KP\"] = KP\n",
    "        if get_elev: geo_json[\"properties\"][\"elevation\"] = get_elevations(m, payload, coords)\n",
    "        json.dump(geo_json, fh)\n",
    "        print(f\"geojson data written to file {fname}\")\n",
    "draw_control.on_draw(handle_draw)\n",
    "m.add_control(draw_control)"
   ]
  },
  {
   "cell_type": "code",
   "execution_count": 7,
   "id": "f63e4247",
   "metadata": {},
   "outputs": [],
   "source": [
    "geojson_file1 = \"./data/BarMar_H2_pipeline_deepwater_route.json\"\n",
    "with open(geojson_file1, 'r') as f:\n",
    "    east_data = json.load(f)\n",
    "east_json = GeoJSON(name='deepwater route', data=east_data)\n",
    "m.add_layer(east_json)"
   ]
  },
  {
   "cell_type": "code",
   "execution_count": 8,
   "id": "d21e744d",
   "metadata": {
    "scrolled": false
   },
   "outputs": [
    {
     "data": {
      "application/vnd.jupyter.widget-view+json": {
       "model_id": "c8974ababb54408ba87e6d7bc50f9871",
       "version_major": 2,
       "version_minor": 0
      },
      "text/plain": [
       "Map(center=[41.6, 4.0], controls=(ZoomControl(options=['position', 'zoom_in_text', 'zoom_in_title', 'zoom_out_…"
      ]
     },
     "execution_count": 8,
     "metadata": {},
     "output_type": "execute_result"
    }
   ],
   "source": [
    "m"
   ]
  },
  {
   "cell_type": "code",
   "execution_count": 9,
   "id": "a963ae59",
   "metadata": {},
   "outputs": [],
   "source": [
    "#dir(m)\n",
    "pass"
   ]
  }
 ],
 "metadata": {
  "kernelspec": {
   "display_name": "Python 3 (ipykernel)",
   "language": "python",
   "name": "python3"
  },
  "language_info": {
   "codemirror_mode": {
    "name": "ipython",
    "version": 3
   },
   "file_extension": ".py",
   "mimetype": "text/x-python",
   "name": "python",
   "nbconvert_exporter": "python",
   "pygments_lexer": "ipython3",
   "version": "3.9.13"
  }
 },
 "nbformat": 4,
 "nbformat_minor": 5
}
