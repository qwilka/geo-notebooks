{
 "cells": [
  {
   "cell_type": "markdown",
   "id": "cffbf5fc-040b-46dc-ba07-e0b36d01b4b8",
   "metadata": {},
   "source": [
    "# A tool for creating pipeline/cable routes\n",
    "\n",
    "https://github.com/jupyter-widgets/ipyleaflet"
   ]
  },
  {
   "cell_type": "code",
   "execution_count": 1,
   "id": "f0b2f482-341a-41e1-8a31-032abe3a6547",
   "metadata": {},
   "outputs": [],
   "source": [
    "import json\n",
    "import re\n",
    "import requests\n",
    "#from haversine import haversine\n",
    "from ipyleaflet import (Map, basemaps, basemap_to_tiles, WMSLayer, Marker, GeoJSON, AwesomeIcon, ImageOverlay, \n",
    "                        ScaleControl, LayersControl, ZoomControl, FullScreenControl, DrawControl, LayerGroup)\n"
   ]
  },
  {
   "cell_type": "code",
   "execution_count": 2,
   "id": "562355b1-8383-4b0b-98d0-cc7daac74061",
   "metadata": {},
   "outputs": [],
   "source": [
    "# https://ipyleaflet.readthedocs.io/en/latest/map_and_basemaps/basemaps.html\n",
    "# basemaps.Esri.WorldImagery\n",
    "# basemap=basemap_to_tiles(basemaps.Esri.WorldImagery),\n",
    "# url='https://www.gebco.net/data_and_products/gebco_web_services/web_map_service/mapserv',\n",
    "# https://tiles.emodnet-bathymetry.eu/wmts/1.0.0/WMTSCapabilities.xml\n",
    "# https://tiles.emodnet-bathymetry.eu/2020/baselayer/{TileMatrixSet}/{TileMatrix}/{TileCol}/{TileRow}.png\n",
    "# https://tiles.emodnet-bathymetry.eu/2020/baselayer/web_mercator/{TileMatrix}/{TileCol}/{TileRow}.png\n",
    "OSM=basemaps.OpenStreetMap.Mapnik\n",
    "worldImagery = basemap_to_tiles(basemaps.Esri.WorldImagery)\n",
    "gebco =WMSLayer(\n",
    "    url='https://www.gebco.net/data_and_products/gebco_web_services/web_map_service/mapserv',\n",
    "    layers='GEBCO_LATEST',\n",
    "    format='image/png',\n",
    "    transparent=True,\n",
    "    attribution='GEBCO'\n",
    ")\n",
    "emodnet =WMSLayer(\n",
    "    url='https://tiles.emodnet-bathymetry.eu/2020/baselayer/web_mercator/1/{TileCol}/{TileRow}.png',\n",
    "    tms=True\n",
    ")"
   ]
  },
  {
   "cell_type": "code",
   "execution_count": 3,
   "id": "b2514d73-b329-44a5-ae97-f07f517ec74c",
   "metadata": {},
   "outputs": [],
   "source": [
    "m = Map(\n",
    "    basemap=OSM,\n",
    "    center=(42.9, 36.4),\n",
    "    zoom=6,\n",
    "    zoom_control=False,\n",
    "    attribution_control=False\n",
    "    )\n",
    "m.add_control(ZoomControl(position='topright'))\n",
    "m.add_control(LayersControl(position='topleft'))\n",
    "m.add_control(ScaleControl(position='bottomright', metric=True, imperial=False))\n",
    "m.add_control(FullScreenControl())"
   ]
  },
  {
   "cell_type": "code",
   "execution_count": 4,
   "id": "06cda1cd-ec92-4720-9bb5-a843f5fd9d6b",
   "metadata": {},
   "outputs": [],
   "source": [
    "geojson_file1 = \"./data/blacksea_route.json\"\n",
    "with open(geojson_file1, 'r') as f:\n",
    "    route_data = json.load(f)\n",
    "route_json = GeoJSON(name='deepwater route', data=route_data)\n",
    "m.add_layer(route_json)"
   ]
  },
  {
   "cell_type": "code",
   "execution_count": 5,
   "id": "29db7726-34fc-4185-93f0-d2492cc8f4dd",
   "metadata": {},
   "outputs": [
    {
     "data": {
      "application/vnd.jupyter.widget-view+json": {
       "model_id": "d43427279d424a479dcf017c1c209d47",
       "version_major": 2,
       "version_minor": 0
      },
      "text/plain": [
       "Map(center=[42.9, 36.4], controls=(ZoomControl(options=['position', 'zoom_in_text', 'zoom_in_title', 'zoom_out…"
      ]
     },
     "execution_count": 5,
     "metadata": {},
     "output_type": "execute_result"
    }
   ],
   "source": [
    "m"
   ]
  }
 ],
 "metadata": {
  "kernelspec": {
   "display_name": "Python 3 (ipykernel)",
   "language": "python",
   "name": "python3"
  },
  "language_info": {
   "codemirror_mode": {
    "name": "ipython",
    "version": 3
   },
   "file_extension": ".py",
   "mimetype": "text/x-python",
   "name": "python",
   "nbconvert_exporter": "python",
   "pygments_lexer": "ipython3",
   "version": "3.12.0"
  }
 },
 "nbformat": 4,
 "nbformat_minor": 5
}
