{
 "cells": [
  {
   "cell_type": "markdown",
   "id": "576167b4",
   "metadata": {},
   "source": [
    "## COP\n",
    "\n"
   ]
  },
  {
   "cell_type": "code",
   "execution_count": 1,
   "id": "c15bf9b2",
   "metadata": {},
   "outputs": [],
   "source": [
    "import json\n",
    "import re\n",
    "import requests\n",
    "from haversine import haversine\n",
    "from ipyleaflet import (Map, basemaps, basemap_to_tiles, WMSLayer, Marker, GeoJSON, AwesomeIcon, ImageOverlay, \n",
    "                        ScaleControl, LayersControl, ZoomControl, FullScreenControl, DrawControl, LayerGroup)"
   ]
  },
  {
   "cell_type": "code",
   "execution_count": 2,
   "id": "503d1372",
   "metadata": {},
   "outputs": [],
   "source": [
    "# https://ipyleaflet.readthedocs.io/en/latest/map_and_basemaps/basemaps.html\n",
    "# basemaps.Esri.WorldImagery\n",
    "# basemap=basemap_to_tiles(basemaps.Esri.WorldImagery),\n",
    "# url='https://www.gebco.net/data_and_products/gebco_web_services/web_map_service/mapserv',\n",
    "# https://tiles.emodnet-bathymetry.eu/wmts/1.0.0/WMTSCapabilities.xml\n",
    "# https://tiles.emodnet-bathymetry.eu/2020/baselayer/{TileMatrixSet}/{TileMatrix}/{TileCol}/{TileRow}.png\n",
    "# https://tiles.emodnet-bathymetry.eu/2020/baselayer/web_mercator/{TileMatrix}/{TileCol}/{TileRow}.png\n",
    "OSM=basemaps.OpenStreetMap.Mapnik\n",
    "worldImagery = basemap_to_tiles(basemaps.Esri.WorldImagery)\n",
    "gebco =WMSLayer(\n",
    "    url='https://www.gebco.net/data_and_products/gebco_web_services/web_map_service/mapserv',\n",
    "    layers='GEBCO_LATEST',\n",
    "    format='image/png',\n",
    "    transparent=True,\n",
    "    attribution='GEBCO'\n",
    ")\n",
    "emodnet =WMSLayer(\n",
    "    url='https://tiles.emodnet-bathymetry.eu/2020/baselayer/web_mercator/1/{TileCol}/{TileRow}.png',\n",
    "    tms=True\n",
    ")\n",
    "m = Map(\n",
    "    basemap=OSM,\n",
    "    center=(42.9, 36.4),\n",
    "    zoom=6,\n",
    "    zoom_control=False,\n",
    "    attribution_control=False\n",
    "    )\n",
    "m.add_control(ZoomControl(position='topright'))\n",
    "m.add_control(LayersControl(position='topleft'))\n",
    "m.add_control(ScaleControl(position='bottomright', metric=True, imperial=False))\n",
    "m.add_control(FullScreenControl())"
   ]
  },
  {
   "cell_type": "code",
   "execution_count": 3,
   "id": "07c86217",
   "metadata": {},
   "outputs": [],
   "source": [
    "def calc_line_KPs(coords, rnd=True, cum=True):\n",
    "    KP = [0]\n",
    "    for ii, coord1 in enumerate(coords[:-1]):\n",
    "        long1, lat1 = coord1\n",
    "        long2, lat2 = coords[ii+1]\n",
    "        #print(coord1, coord2)\n",
    "        dist = haversine((lat1, long1), (lat2, long2))\n",
    "        #distances.append(dist)\n",
    "        #print(type(dist), dist, len(distances))\n",
    "        if cum:\n",
    "            KP.append(dist + KP[-1])\n",
    "        #if len(distances)>0 and cum:\n",
    "        #    dist = dist + distances[-1]\n",
    "        #    KP.append(dist)\n",
    "        #    #print(dist, distances[-1])\n",
    "        else:\n",
    "            KP.append(dist)\n",
    "        #print(distances)\n",
    "    if rnd:\n",
    "        KP = [round(ii, 3) for ii in KP]\n",
    "    return KP"
   ]
  },
  {
   "cell_type": "code",
   "execution_count": 4,
   "id": "e31e80e7",
   "metadata": {},
   "outputs": [],
   "source": [
    "payload = {\n",
    "    \"request\": \"getfeatureinfo\",\n",
    "    \"service\": \"wms\",\n",
    "    \"crs\": \"EPSG:4326\",\n",
    "    \"layers\": \"gebco_latest_2\",\n",
    "    \"query_layers\": \"gebco_latest_2\",\n",
    "    \"BBOX\": \"33,138,38,143\",\n",
    "    \"info_format\": \"text/plain\",\n",
    "    \"x\": \"400\",\n",
    "    \"y\": \"400\",\n",
    "    \"width\": \"951\",\n",
    "    \"height\": \"400\",\n",
    "    \"version\": \"1.3.0\"\n",
    "}\n",
    "\n",
    "p = re.compile(r\"value_list\\s*=\\s*\\'(-?\\d*\\.?\\d*)\")\n",
    "\n",
    "def get_elevations(m, payload, coords):\n",
    "    payload[\"width\"] = int(m.right-m.left)\n",
    "    payload[\"height\"] = int(m.bottom-m.top)\n",
    "    payload[\"BBOX\"] = f\"{m.south:.5f},{m.west:.5f},{m.north:.5f},{m.east:.5f}\"\n",
    "    elevations = []\n",
    "    for long, lat in coords:\n",
    "        payload[\"x\"] = int((long-m.west)/(m.east-m.west)*payload[\"width\"])\n",
    "        payload[\"y\"] = int((lat-m.north)/(m.south-m.north)*payload[\"height\"])\n",
    "        #print(payload[\"width\"], payload[\"height\"])\n",
    "        #print(payload[\"x\"], payload[\"y\"])\n",
    "        #print(payload[\"BBOX\"])\n",
    "        gebcoStr = \"\"\n",
    "        url = 'https://www.gebco.net/data_and_products/gebco_web_services/web_map_service/mapserv'\n",
    "        req = requests.get(url, params=payload)\n",
    "        # https://requests.kennethreitz.org/en/latest/user/advanced/#prepared-requests\n",
    "        #req = requests.Request('GET', url, data=payload)\n",
    "        #prepped = req.prepare()\n",
    "        #print(prepped.body)\n",
    "        gebcoStr = req.text\n",
    "        success = False\n",
    "        if gebcoStr:\n",
    "            mm = p.search(gebcoStr)\n",
    "            if mm:\n",
    "                elevations.append(int(mm.groups(0)[0]))\n",
    "                success = True\n",
    "        if not success:\n",
    "            elevations.append(None)\n",
    "    return elevations"
   ]
  },
  {
   "cell_type": "code",
   "execution_count": 5,
   "id": "7762153c",
   "metadata": {},
   "outputs": [],
   "source": [
    "get_elev = True"
   ]
  },
  {
   "cell_type": "code",
   "execution_count": 6,
   "id": "28583015",
   "metadata": {},
   "outputs": [],
   "source": [
    "draw_control = DrawControl()\n",
    "draw_control.polyline =  {\n",
    "    \"shapeOptions\": {\n",
    "        \"color\": \"#00FFFF\",\n",
    "        \"weight\": 6,\n",
    "        \"opacity\": 1.0,\n",
    "        \"fillOpacity\": 0\n",
    "    }\n",
    "}\n",
    "\n",
    "def handle_draw(self, action, geo_json):\n",
    "    \"\"\"Do something with the GeoJSON when it's drawn on the map\"\"\"    \n",
    "    #feature_collection['features'].append(geo_json)\n",
    "    print(action)\n",
    "    fname = \"./data/geojson_from_map.json\"\n",
    "    if str(action)==\"deleted\": return None\n",
    "    with open(fname, 'w') as fh:\n",
    "        coords = geo_json[\"geometry\"][\"coordinates\"]\n",
    "        KP = calc_line_KPs(coords)\n",
    "        geo_json[\"properties\"][\"style\"][\"fillOpacity\"] = 0\n",
    "        geo_json[\"properties\"][\"KP\"] = KP\n",
    "        if get_elev: geo_json[\"properties\"][\"elevation\"] = get_elevations(m, payload, coords)\n",
    "        json.dump(geo_json, fh)\n",
    "        print(f\"geojson data written to file {fname}\")\n",
    "draw_control.on_draw(handle_draw)\n",
    "m.add_control(draw_control)"
   ]
  },
  {
   "cell_type": "markdown",
   "id": "3ffbe8ee",
   "metadata": {},
   "source": [
    "# ((33.95833333333333, 138.99999999999997), (37.09583333333333, 142.44583333333335))\n",
    "image = ImageOverlay(name=\"elevation/depth contours\",\n",
    "    url=\"./data/COP_elevation-depth_contours2.png\",\n",
    "    bounds=((33.99999999999999, 138.6), (35.7, 140.4))\n",
    ")\n",
    "m.add_layer(image);"
   ]
  },
  {
   "cell_type": "markdown",
   "id": "2ba9c23a",
   "metadata": {},
   "source": [
    "def handle_click(**kwargs):\n",
    "    if kwargs[\"type\"] in [\"click\", \"contextmenu\"]:\n",
    "        print(kwargs)"
   ]
  },
  {
   "cell_type": "markdown",
   "id": "22b36cdb",
   "metadata": {},
   "source": [
    "m.on_interaction(handle_click)"
   ]
  },
  {
   "cell_type": "markdown",
   "id": "9d222d4a",
   "metadata": {},
   "source": [
    "#dir(m)\n",
    "#m.get_state()\n",
    "print(m.west, m.south, m.east, m.north)"
   ]
  },
  {
   "cell_type": "code",
   "execution_count": 7,
   "id": "f63e4247",
   "metadata": {},
   "outputs": [],
   "source": [
    "geojson_file1 = \"./data/BarMar_H2_pipeline_deepwater_route.json\"\n",
    "with open(geojson_file1, 'r') as f:\n",
    "    east_data = json.load(f)\n",
    "east_json = GeoJSON(name='deepwater route', data=east_data)\n",
    "m.add_layer(east_json)"
   ]
  },
  {
   "cell_type": "markdown",
   "id": "d3211898",
   "metadata": {},
   "source": [
    "with open('./data/COP_west_route_4.json', 'r') as f:\n",
    "    west_data = json.load(f)\n",
    "west_json = GeoJSON(name='West route', data=west_data)\n",
    "m.add_layer(west_json)"
   ]
  },
  {
   "cell_type": "markdown",
   "id": "25cb6173",
   "metadata": {},
   "source": [
    "with open('./data/COP_centre_route_5.json', 'r') as f:\n",
    "    west_data = json.load(f)\n",
    "west_json = GeoJSON(name='Centre route', data=west_data)\n",
    "m.add_layer(west_json)"
   ]
  },
  {
   "cell_type": "code",
   "execution_count": 8,
   "id": "d21e744d",
   "metadata": {
    "scrolled": false
   },
   "outputs": [
    {
     "data": {
      "application/vnd.jupyter.widget-view+json": {
       "model_id": "a6da062ba2e0416692de846d1b5455a0",
       "version_major": 2,
       "version_minor": 0
      },
      "text/plain": [
       "Map(center=[42.9, 36.4], controls=(ZoomControl(options=['position', 'zoom_in_text', 'zoom_in_title', 'zoom_out…"
      ]
     },
     "execution_count": 8,
     "metadata": {},
     "output_type": "execute_result"
    }
   ],
   "source": [
    "m"
   ]
  },
  {
   "cell_type": "code",
   "execution_count": 9,
   "id": "a963ae59",
   "metadata": {},
   "outputs": [],
   "source": [
    "#dir(m)\n",
    "pass"
   ]
  },
  {
   "cell_type": "markdown",
   "id": "2efcf3d7",
   "metadata": {},
   "source": [
    "#m.get_state()\n",
    "print(m.west, m.south, m.east, m.north)\n",
    "print(m.left, m.right, m.right-m.left, m.pixel_bounds)\n",
    "print(m.bottom, m.top, m.bottom-m.top, m.pixel_bounds)"
   ]
  },
  {
   "cell_type": "markdown",
   "id": "6a8494d7",
   "metadata": {},
   "source": [
    "# https://requests.readthedocs.io/en/latest/user/quickstart/#passing-parameters-in-urls\n",
    "payload = {\n",
    "    \"request\": \"getfeatureinfo\",\n",
    "    \"service\": \"wms\",\n",
    "    \"crs\": \"EPSG:4326\",\n",
    "    \"layers\": \"gebco_latest_2\",\n",
    "    \"query_layers\": \"gebco_latest_2\",\n",
    "    \"BBOX\": \"33,138,38,143\",\n",
    "    \"info_format\": \"text/plain\",\n",
    "    \"x\": \"400\",\n",
    "    \"y\": \"400\",\n",
    "    \"width\": \"951\",\n",
    "    \"height\": \"400\",\n",
    "    \"version\": \"1.3.0\"\n",
    "}\n",
    "payload[\"width\"] = int(m.right-m.left)\n",
    "payload[\"height\"] = int(m.bottom-m.top)\n",
    "payload[\"BBOX\"] = f\"{m.south:.5f},{m.west:.5f},{m.north:.5f},{m.east:.5f}\"\n",
    "payload\n",
    "#r = requests.get('https://www.gebco.net/data_and_products/gebco_web_services/web_map_service/mapserv', params=payload)\n",
    "#r.text"
   ]
  },
  {
   "cell_type": "markdown",
   "id": "5e643928",
   "metadata": {},
   "source": [
    "# https://requests.readthedocs.io/en/latest/user/quickstart/#passing-parameters-in-urls\n",
    "payload = {\n",
    "    \"request\": \"getfeatureinfo\",\n",
    "    \"service\": \"wms\",\n",
    "    \"crs\": \"EPSG:4326\",\n",
    "    \"layers\": \"gebco_latest_2\",\n",
    "    \"query_layers\": \"gebco_latest_2\",\n",
    "    \"BBOX\": \"33,138,38,143\",\n",
    "    \"info_format\": \"text/plain\",\n",
    "    \"x\": \"400\",\n",
    "    \"y\": \"400\",\n",
    "    \"width\": \"951\",\n",
    "    \"height\": \"400\",\n",
    "    \"version\": \"1.3.0\"\n",
    "}\n",
    "\n",
    "p = re.compile(r\"value_list\\s*=\\s*\\'(-?\\d*\\.?\\d*)\")\n",
    "\n",
    "def get_depths(m, payload, coords):\n",
    "    payload[\"width\"] = int(m.right-m.left)\n",
    "    payload[\"height\"] = int(m.bottom-m.top)\n",
    "    payload[\"BBOX\"] = f\"{m.south:.5f},{m.west:.5f},{m.north:.5f},{m.east:.5f}\"\n",
    "    depths = []\n",
    "    for long, lat in coords:\n",
    "        payload[\"x\"] = int((long-m.west)/(m.east-m.west)*payload[\"width\"])\n",
    "        payload[\"y\"] = int((lat-m.north)/(m.south-m.north)*payload[\"height\"])\n",
    "        #print(payload[\"width\"], payload[\"height\"])\n",
    "        #print(payload[\"x\"], payload[\"y\"])\n",
    "        #print(payload[\"BBOX\"])\n",
    "        gebcoStr = \"\"\n",
    "        url = 'https://www.gebco.net/data_and_products/gebco_web_services/web_map_service/mapserv'\n",
    "        req = requests.get(url, params=payload)\n",
    "        # https://requests.kennethreitz.org/en/latest/user/advanced/#prepared-requests\n",
    "        #req = requests.Request('GET', url, data=payload)\n",
    "        #prepped = req.prepare()\n",
    "        #print(prepped.body)\n",
    "        gebcoStr = req.text\n",
    "        success = False\n",
    "        if gebcoStr:\n",
    "            mm = p.search(gebcoStr)\n",
    "            if mm:\n",
    "                depths.append(int(mm.groups(0)[0]))\n",
    "                success = True\n",
    "        if not success:\n",
    "            depths.append(None)\n",
    "    return depths\n",
    "        \n",
    "coords = [[139.155735,34.269056],[139.180457,34.303087],[139.18595,34.339372]]\n",
    "coords = [[139.1633,34.2472]]\n",
    "# west route\n",
    "west_coords = [[139.155735,34.269056],[139.180457,34.303087],[139.18595,34.339372],[139.218912,34.384705],[139.23814,34.420954],[139.207925,34.457188],[139.18595,34.493406],[139.152988,34.522821],[139.109038,34.556749],[139.098051,34.583881],[139.059595,34.608745],[139.026633,34.633601],[138.98543,34.656191],[138.960709,34.692322],[138.982683,34.730694],[138.999164,34.769049],[139.054101,34.802876],[139.062342,34.852464],[139.098051,34.890762],[139.114532,34.929042],[139.087064,34.985303],[139.076076,35.028036],[139.059595,35.070747],[139.089811,35.117927],[139.120026,35.162835],[139.128266,35.223422],[139.199685,35.286205],[139.295824,35.313098],[139.405698,35.32654],[139.471623,35.339981],[139.523813,35.355659],[139.556775,35.369094]]\n",
    "east_coords = [[139.177662, 34.241938], [139.205131, 34.262365], [139.238093, 34.29413], [139.273802, 34.316812], [139.306764, 34.34629], [139.325992, 34.37349], [139.364448, 34.423336], [139.39741, 34.448247], [139.446853, 34.502574], [139.479816, 34.538772], [139.507284, 34.586258], [139.537499, 34.624679], [139.567715, 34.676633], [139.581449, 34.735323], [139.58969, 34.787207], [139.600677, 34.841312], [139.617158, 34.902138], [139.647373, 34.967419], [139.672095, 35.005663], [139.685875, 35.043785], [139.70785, 35.088734], [139.732571, 35.14264], [139.757295, 35.214449], [139.77927, 35.261546], [139.773776, 35.304135], [139.73532, 35.335501], [139.705105, 35.380289], [139.68313, 35.411626]]\n",
    "#depths = get_depths(m, payload, coords)\n",
    "#print(depths)"
   ]
  },
  {
   "cell_type": "markdown",
   "id": "9249017d",
   "metadata": {},
   "source": [
    "teststr = \"Layer 'GEBCO_LATEST_2'\\n  Feature 0: \\n    x = '-19.977083'\\n    y = '50.964583'\\n    value_list = '-3621'\"\n",
    "p = re.compile(r\"value_list\\s*=\\s*\\'(-?\\d*\\.?\\d*)\")\n",
    "mm = p.search(teststr)\n",
    "mm.group(0)\n",
    "int(mm.groups(0)[0])"
   ]
  },
  {
   "cell_type": "markdown",
   "id": "70832712",
   "metadata": {},
   "source": [
    "# west route depths\n",
    "west_depths = [-77, -90, -188, -127, -132, -150, -343, -456, -441, -473, -384, -136, -10, 118, 117, 249, 162, 210, 242, 211, 179, 328, 323, 134, 181, 276, 10, 45, 8, 10, 40, 27]\n",
    "print(west_depths)"
   ]
  },
  {
   "cell_type": "markdown",
   "id": "5f6afc36",
   "metadata": {},
   "source": [
    "# east route depths\n",
    "east_depths = [-61, -106, -127, -57, -69, -128, -109, -195, -110, -91, -435, -948, -1548, -1740, -1853, -863, -806, -395, -496, -724, -100, -319, -86, -52, -5, -34, -38, -22]\n",
    "print(east_depths)"
   ]
  },
  {
   "cell_type": "markdown",
   "id": "c304f253",
   "metadata": {},
   "source": [
    "from haversine import haversine"
   ]
  },
  {
   "cell_type": "markdown",
   "id": "3fab353f",
   "metadata": {},
   "source": [
    "distances = []\n",
    "coords = west_coords\n",
    "for ii, coord1 in enumerate(coords[:-1]):\n",
    "    long1, lat1 = coord1\n",
    "    long2, lat2 = coords[ii+1]\n",
    "    #print(coord1, coord2)\n",
    "    dist = haversine((lat1, long1), (lat2, long2))\n",
    "    distances.append(dist)\n",
    "west_distances = distances\n",
    "#print(distances)"
   ]
  },
  {
   "cell_type": "markdown",
   "id": "2ec914f9",
   "metadata": {},
   "source": [
    "distances = []\n",
    "coords = east_coords\n",
    "for ii, coord1 in enumerate(coords[:-1]):\n",
    "    long1, lat1 = coord1\n",
    "    long2, lat2 = coords[ii+1]\n",
    "    #print(coord1, coord2)\n",
    "    dist = haversine((lat1, long1), (lat2, long2))\n",
    "    distances.append(dist)\n",
    "east_distances = distances\n",
    "print(distances)"
   ]
  }
 ],
 "metadata": {
  "kernelspec": {
   "display_name": "Python 3 (ipykernel)",
   "language": "python",
   "name": "python3"
  },
  "language_info": {
   "codemirror_mode": {
    "name": "ipython",
    "version": 3
   },
   "file_extension": ".py",
   "mimetype": "text/x-python",
   "name": "python",
   "nbconvert_exporter": "python",
   "pygments_lexer": "ipython3",
   "version": "3.10.11"
  }
 },
 "nbformat": 4,
 "nbformat_minor": 5
}
